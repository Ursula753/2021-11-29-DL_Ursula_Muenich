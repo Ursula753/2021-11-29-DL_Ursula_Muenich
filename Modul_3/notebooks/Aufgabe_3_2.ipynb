{
 "cells": [
  {
   "cell_type": "code",
   "execution_count": 1,
   "id": "4bdc1e2b",
   "metadata": {},
   "outputs": [
    {
     "data": {
      "text/plain": [
       "161.98209697530748"
      ]
     },
     "execution_count": 1,
     "metadata": {},
     "output_type": "execute_result"
    }
   ],
   "source": [
    "import pandas as pd\n",
    "df = pd.read_csv(\"../data/Library_Usage.csv\")\n",
    "df['Total Checkouts'].mean()"
   ]
  },
  {
   "cell_type": "code",
   "execution_count": 2,
   "id": "f86a9c0e",
   "metadata": {},
   "outputs": [
    {
     "data": {
      "text/plain": [
       "19.0"
      ]
     },
     "execution_count": 2,
     "metadata": {},
     "output_type": "execute_result"
    }
   ],
   "source": [
    "df['Total Checkouts'].median()"
   ]
  },
  {
   "cell_type": "code",
   "execution_count": null,
   "id": "c2dd3030",
   "metadata": {},
   "outputs": [],
   "source": [
    "# Der Mittelwert über die gesamte Verteilung ist 161 Medienausleihen.\n",
    "# Der Wert in der Mitte der Verteilung, Median, ist 19. 50% der Nutzer:innen leihen mehr aus, 50% weniger\n",
    "# als 19 Medien.\n",
    "# Der Median ist weniger anfällig für Ausreißer, also robuster. Man kann von durchschnittlich\n",
    "# 19 Ausleihen pro Nutzer:in ausgehen."
   ]
  }
 ],
 "metadata": {
  "kernelspec": {
   "display_name": "Python 3 (ipykernel)",
   "language": "python",
   "name": "python3"
  },
  "language_info": {
   "codemirror_mode": {
    "name": "ipython",
    "version": 3
   },
   "file_extension": ".py",
   "mimetype": "text/x-python",
   "name": "python",
   "nbconvert_exporter": "python",
   "pygments_lexer": "ipython3",
   "version": "3.9.7"
  }
 },
 "nbformat": 4,
 "nbformat_minor": 5
}
