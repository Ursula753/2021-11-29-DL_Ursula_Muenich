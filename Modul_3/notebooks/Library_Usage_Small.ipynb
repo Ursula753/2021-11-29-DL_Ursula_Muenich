{
 "cells": [
  {
   "cell_type": "code",
   "execution_count": 14,
   "id": "9aa6c6a0",
   "metadata": {},
   "outputs": [
    {
     "data": {
      "text/html": [
       "<div>\n",
       "<style scoped>\n",
       "    .dataframe tbody tr th:only-of-type {\n",
       "        vertical-align: middle;\n",
       "    }\n",
       "\n",
       "    .dataframe tbody tr th {\n",
       "        vertical-align: top;\n",
       "    }\n",
       "\n",
       "    .dataframe thead th {\n",
       "        text-align: right;\n",
       "    }\n",
       "</style>\n",
       "<table border=\"1\" class=\"dataframe\">\n",
       "  <thead>\n",
       "    <tr style=\"text-align: right;\">\n",
       "      <th></th>\n",
       "      <th>Patron Type Code</th>\n",
       "      <th>Patron Type Definition</th>\n",
       "      <th>Total Checkouts</th>\n",
       "      <th>Total Renewals</th>\n",
       "      <th>Age Range</th>\n",
       "      <th>Home Library Code</th>\n",
       "      <th>Home Library Definition</th>\n",
       "      <th>Circulation Active Month</th>\n",
       "      <th>Circulation Active Year</th>\n",
       "      <th>Notice Preference Code</th>\n",
       "      <th>Notice Preference Definition</th>\n",
       "      <th>Provided Email Address</th>\n",
       "      <th>Year Patron Registered</th>\n",
       "      <th>Outside of County</th>\n",
       "      <th>Supervisor District</th>\n",
       "    </tr>\n",
       "  </thead>\n",
       "  <tbody>\n",
       "    <tr>\n",
       "      <th>0</th>\n",
       "      <td>1</td>\n",
       "      <td>JUVENILE</td>\n",
       "      <td>518</td>\n",
       "      <td>8</td>\n",
       "      <td>10 to 19 years</td>\n",
       "      <td>V3</td>\n",
       "      <td>Visitacion Valley</td>\n",
       "      <td>July</td>\n",
       "      <td>2016</td>\n",
       "      <td>p</td>\n",
       "      <td>phone</td>\n",
       "      <td>False</td>\n",
       "      <td>2010</td>\n",
       "      <td>False</td>\n",
       "      <td>10.0</td>\n",
       "    </tr>\n",
       "    <tr>\n",
       "      <th>1</th>\n",
       "      <td>1</td>\n",
       "      <td>JUVENILE</td>\n",
       "      <td>38</td>\n",
       "      <td>0</td>\n",
       "      <td>0 to 9 years</td>\n",
       "      <td>P1</td>\n",
       "      <td>Park</td>\n",
       "      <td>June</td>\n",
       "      <td>2016</td>\n",
       "      <td>z</td>\n",
       "      <td>email</td>\n",
       "      <td>True</td>\n",
       "      <td>2015</td>\n",
       "      <td>False</td>\n",
       "      <td>4.0</td>\n",
       "    </tr>\n",
       "    <tr>\n",
       "      <th>2</th>\n",
       "      <td>0</td>\n",
       "      <td>ADULT</td>\n",
       "      <td>38</td>\n",
       "      <td>4</td>\n",
       "      <td>10 to 19 years</td>\n",
       "      <td>N4</td>\n",
       "      <td>Noe Valley/Sally Brunn</td>\n",
       "      <td>November</td>\n",
       "      <td>2008</td>\n",
       "      <td>z</td>\n",
       "      <td>email</td>\n",
       "      <td>True</td>\n",
       "      <td>2003</td>\n",
       "      <td>False</td>\n",
       "      <td>8.0</td>\n",
       "    </tr>\n",
       "    <tr>\n",
       "      <th>3</th>\n",
       "      <td>0</td>\n",
       "      <td>ADULT</td>\n",
       "      <td>48</td>\n",
       "      <td>48</td>\n",
       "      <td>20 to 24 years</td>\n",
       "      <td>O7</td>\n",
       "      <td>Ortega</td>\n",
       "      <td>February</td>\n",
       "      <td>2013</td>\n",
       "      <td>p</td>\n",
       "      <td>phone</td>\n",
       "      <td>False</td>\n",
       "      <td>2004</td>\n",
       "      <td>False</td>\n",
       "      <td>10.0</td>\n",
       "    </tr>\n",
       "    <tr>\n",
       "      <th>4</th>\n",
       "      <td>1</td>\n",
       "      <td>JUVENILE</td>\n",
       "      <td>28</td>\n",
       "      <td>13</td>\n",
       "      <td>0 to 9 years</td>\n",
       "      <td>E9</td>\n",
       "      <td>Excelsior</td>\n",
       "      <td>June</td>\n",
       "      <td>2016</td>\n",
       "      <td>z</td>\n",
       "      <td>email</td>\n",
       "      <td>True</td>\n",
       "      <td>2014</td>\n",
       "      <td>False</td>\n",
       "      <td>11.0</td>\n",
       "    </tr>\n",
       "  </tbody>\n",
       "</table>\n",
       "</div>"
      ],
      "text/plain": [
       "   Patron Type Code Patron Type Definition  Total Checkouts  Total Renewals  \\\n",
       "0                 1               JUVENILE              518               8   \n",
       "1                 1               JUVENILE               38               0   \n",
       "2                 0                  ADULT               38               4   \n",
       "3                 0                  ADULT               48              48   \n",
       "4                 1               JUVENILE               28              13   \n",
       "\n",
       "        Age Range Home Library Code Home Library Definition  \\\n",
       "0  10 to 19 years                V3       Visitacion Valley   \n",
       "1    0 to 9 years                P1                    Park   \n",
       "2  10 to 19 years                N4  Noe Valley/Sally Brunn   \n",
       "3  20 to 24 years                O7                  Ortega   \n",
       "4    0 to 9 years                E9               Excelsior   \n",
       "\n",
       "  Circulation Active Month Circulation Active Year Notice Preference Code  \\\n",
       "0                     July                    2016                      p   \n",
       "1                     June                    2016                      z   \n",
       "2                 November                    2008                      z   \n",
       "3                 February                    2013                      p   \n",
       "4                     June                    2016                      z   \n",
       "\n",
       "  Notice Preference Definition  Provided Email Address  \\\n",
       "0                        phone                   False   \n",
       "1                        email                    True   \n",
       "2                        email                    True   \n",
       "3                        phone                   False   \n",
       "4                        email                    True   \n",
       "\n",
       "   Year Patron Registered  Outside of County  Supervisor District  \n",
       "0                    2010              False                 10.0  \n",
       "1                    2015              False                  4.0  \n",
       "2                    2003              False                  8.0  \n",
       "3                    2004              False                 10.0  \n",
       "4                    2014              False                 11.0  "
      ]
     },
     "execution_count": 14,
     "metadata": {},
     "output_type": "execute_result"
    }
   ],
   "source": [
    "import pandas as pd\n",
    "df = pd.read_csv(\"../data/Library_Usage_Small.csv\")\n",
    "df.head()"
   ]
  },
  {
   "cell_type": "code",
   "execution_count": 15,
   "id": "972c232a",
   "metadata": {},
   "outputs": [],
   "source": [
    "df.to_json(\"../data/Library_Usage_Small.json\")"
   ]
  },
  {
   "cell_type": "code",
   "execution_count": 16,
   "id": "8bd46136",
   "metadata": {},
   "outputs": [],
   "source": [
    "df.to_html(\"../data/Library_Usage_Small.html\")"
   ]
  },
  {
   "cell_type": "code",
   "execution_count": 11,
   "id": "23a21c57",
   "metadata": {},
   "outputs": [],
   "source": [
    "df = pd.read_html(\"../data/Library_Usage_Small.html\")"
   ]
  },
  {
   "cell_type": "code",
   "execution_count": 18,
   "id": "c6c4294a",
   "metadata": {},
   "outputs": [],
   "source": [
    "df.to_excel(\"../data/Library_Usage_Small.xlsx\")"
   ]
  },
  {
   "cell_type": "code",
   "execution_count": 19,
   "id": "804087c1",
   "metadata": {},
   "outputs": [],
   "source": [
    "df.to_csv(\"../data/Library_Usage_Small_2.csv\")"
   ]
  },
  {
   "cell_type": "code",
   "execution_count": null,
   "id": "e4cfa417",
   "metadata": {},
   "outputs": [],
   "source": [
    "# die Daten-Zeilen wurden durchnummeriert, beginnend bei Null"
   ]
  },
  {
   "cell_type": "code",
   "execution_count": 20,
   "id": "e7a5516d",
   "metadata": {},
   "outputs": [
    {
     "name": "stdout",
     "output_type": "stream",
     "text": [
      "<class 'pandas.core.frame.DataFrame'>\n",
      "RangeIndex: 20 entries, 0 to 19\n",
      "Data columns (total 15 columns):\n",
      " #   Column                        Non-Null Count  Dtype  \n",
      "---  ------                        --------------  -----  \n",
      " 0   Patron Type Code              20 non-null     int64  \n",
      " 1   Patron Type Definition        20 non-null     object \n",
      " 2   Total Checkouts               20 non-null     int64  \n",
      " 3   Total Renewals                20 non-null     int64  \n",
      " 4   Age Range                     20 non-null     object \n",
      " 5   Home Library Code             20 non-null     object \n",
      " 6   Home Library Definition       20 non-null     object \n",
      " 7   Circulation Active Month      20 non-null     object \n",
      " 8   Circulation Active Year       20 non-null     object \n",
      " 9   Notice Preference Code        20 non-null     object \n",
      " 10  Notice Preference Definition  20 non-null     object \n",
      " 11  Provided Email Address        20 non-null     bool   \n",
      " 12  Year Patron Registered        20 non-null     int64  \n",
      " 13  Outside of County             20 non-null     bool   \n",
      " 14  Supervisor District           17 non-null     float64\n",
      "dtypes: bool(2), float64(1), int64(4), object(8)\n",
      "memory usage: 2.2+ KB\n"
     ]
    }
   ],
   "source": [
    "df.info()"
   ]
  },
  {
   "cell_type": "code",
   "execution_count": 22,
   "id": "fef03e9f",
   "metadata": {},
   "outputs": [
    {
     "data": {
      "text/plain": [
       "Index                            128\n",
       "Patron Type Code                 160\n",
       "Patron Type Definition          1290\n",
       "Total Checkouts                  160\n",
       "Total Renewals                   160\n",
       "Age Range                       1404\n",
       "Home Library Code               1178\n",
       "Home Library Definition         1346\n",
       "Circulation Active Month        1238\n",
       "Circulation Active Year         1220\n",
       "Notice Preference Code          1160\n",
       "Notice Preference Definition    1240\n",
       "Provided Email Address            20\n",
       "Year Patron Registered           160\n",
       "Outside of County                 20\n",
       "Supervisor District              160\n",
       "dtype: int64"
      ]
     },
     "execution_count": 22,
     "metadata": {},
     "output_type": "execute_result"
    }
   ],
   "source": [
    "df.memory_usage(deep=True)"
   ]
  }
 ],
 "metadata": {
  "kernelspec": {
   "display_name": "Python 3 (ipykernel)",
   "language": "python",
   "name": "python3"
  },
  "language_info": {
   "codemirror_mode": {
    "name": "ipython",
    "version": 3
   },
   "file_extension": ".py",
   "mimetype": "text/x-python",
   "name": "python",
   "nbconvert_exporter": "python",
   "pygments_lexer": "ipython3",
   "version": "3.9.7"
  }
 },
 "nbformat": 4,
 "nbformat_minor": 5
}
