{
 "cells": [
  {
   "cell_type": "code",
   "execution_count": 1,
   "id": "35d4575b",
   "metadata": {},
   "outputs": [],
   "source": [
    "import pandas as pd\n",
    "df = pd.read_csv(\"../data/Library_Usage.csv\")"
   ]
  },
  {
   "cell_type": "code",
   "execution_count": 2,
   "id": "d56243ab",
   "metadata": {},
   "outputs": [
    {
     "data": {
      "text/plain": [
       "205847.027758416"
      ]
     },
     "execution_count": 2,
     "metadata": {},
     "output_type": "execute_result"
    }
   ],
   "source": [
    "# Varianz/Abweichung vom Mittelwert (im Quadrat)\n",
    "df['Total Checkouts'].var()"
   ]
  },
  {
   "cell_type": "code",
   "execution_count": 3,
   "id": "4f3cabbf",
   "metadata": {},
   "outputs": [
    {
     "data": {
      "text/plain": [
       "453.7036783611259"
      ]
     },
     "execution_count": 3,
     "metadata": {},
     "output_type": "execute_result"
    }
   ],
   "source": [
    "# Standardabweichung\n",
    "df['Total Checkouts'].std()"
   ]
  },
  {
   "cell_type": "code",
   "execution_count": 4,
   "id": "73dbfee6",
   "metadata": {},
   "outputs": [
    {
     "data": {
      "text/plain": [
       "50629.46272559851"
      ]
     },
     "execution_count": 4,
     "metadata": {},
     "output_type": "execute_result"
    }
   ],
   "source": [
    "df['Total Renewals'].var()"
   ]
  },
  {
   "cell_type": "code",
   "execution_count": 5,
   "id": "16ad8ee7",
   "metadata": {},
   "outputs": [
    {
     "data": {
      "text/plain": [
       "225.0099169494503"
      ]
     },
     "execution_count": 5,
     "metadata": {},
     "output_type": "execute_result"
    }
   ],
   "source": [
    "df['Total Renewals'].std()"
   ]
  },
  {
   "cell_type": "code",
   "execution_count": null,
   "id": "1436a96e",
   "metadata": {},
   "outputs": [],
   "source": [
    "# Total Checkouts streut mehr"
   ]
  },
  {
   "cell_type": "code",
   "execution_count": null,
   "id": "81272413",
   "metadata": {},
   "outputs": [],
   "source": [
    "#"
   ]
  },
  {
   "cell_type": "code",
   "execution_count": 10,
   "id": "c39c1369",
   "metadata": {},
   "outputs": [
    {
     "name": "stderr",
     "output_type": "stream",
     "text": [
      "/home/ursula/anaconda3/lib/python3.9/site-packages/seaborn/distributions.py:2619: FutureWarning: `distplot` is a deprecated function and will be removed in a future version. Please adapt your code to use either `displot` (a figure-level function with similar flexibility) or `histplot` (an axes-level function for histograms).\n",
      "  warnings.warn(msg, FutureWarning)\n"
     ]
    },
    {
     "data": {
      "text/plain": [
       "<AxesSubplot:xlabel='Total Checkouts'>"
      ]
     },
     "execution_count": 10,
     "metadata": {},
     "output_type": "execute_result"
    },
    {
     "data": {
      "image/png": "[encoded data removed]",
      "text/plain": [
       "<Figure size 432x288 with 1 Axes>"
      ]
     },
     "metadata": {},
     "output_type": "display_data"
    }
   ],
   "source": [
    "import pandas as pd\n",
    "import seaborn as sns\n",
    "%matplotlib inline\n",
    "sns.set()\n",
    "\n",
    "df = pd.read_csv(\"../data/Library_Usage.csv\")\n",
    "sns.distplot(df['Total Checkouts'], kde=False)"
   ]
  },
  {
   "cell_type": "code",
   "execution_count": 11,
   "id": "9dc3200f",
   "metadata": {},
   "outputs": [
    {
     "data": {
      "text/plain": [
       "<AxesSubplot:xlabel='Total Checkouts', ylabel='Count'>"
      ]
     },
     "execution_count": 11,
     "metadata": {},
     "output_type": "execute_result"
    },
    {
     "data": {
      "image/png": "[encoded data removed]",
      "text/plain": [
       "<Figure size 432x288 with 1 Axes>"
      ]
     },
     "metadata": {},
     "output_type": "display_data"
    }
   ],
   "source": [
    "import pandas as pd\n",
    "import seaborn as sns\n",
    "%matplotlib inline\n",
    "sns.set()\n",
    "\n",
    "df = pd.read_csv(\"../data/Library_Usage.csv\")\n",
    "sns.histplot(df['Total Checkouts'], kde=False)"
   ]
  }
 ],
 "metadata": {
  "kernelspec": {
   "display_name": "Python 3 (ipykernel)",
   "language": "python",
   "name": "python3"
  },
  "language_info": {
   "codemirror_mode": {
    "name": "ipython",
    "version": 3
   },
   "file_extension": ".py",
   "mimetype": "text/x-python",
   "name": "python",
   "nbconvert_exporter": "python",
   "pygments_lexer": "ipython3",
   "version": "3.9.7"
  }
 },
 "nbformat": 4,
 "nbformat_minor": 5
}
